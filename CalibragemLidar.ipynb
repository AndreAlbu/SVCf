{
 "cells": [
  {
   "cell_type": "code",
   "execution_count": 2,
   "id": "a92dfd58",
   "metadata": {},
   "outputs": [],
   "source": [
    "import cv2 as cv\n",
    "import numpy as np"
   ]
  },
  {
   "cell_type": "code",
   "execution_count": 3,
   "id": "2096cb1b",
   "metadata": {},
   "outputs": [],
   "source": [
    "def mostra(legenda, imagem):\n",
    "    \n",
    "    res = cv.resize(imagem, dsize=(512, 384), interpolation= cv.INTER_LINEAR)\n",
    "    \n",
    "    cv.imshow(legenda, res)\n",
    "    \n",
    "    cv.waitKey(0)"
   ]
  },
  {
   "cell_type": "code",
   "execution_count": 62,
   "id": "6a670674",
   "metadata": {},
   "outputs": [],
   "source": [
    "def organizaTXT(arquivo):\n",
    "    \n",
    "    arq = open(arquivo)\n",
    "\n",
    "    linhas = arq.readlines()\n",
    "\n",
    "    pontosImagens = [ ]\n",
    "\n",
    "    for linha in linhas:\n",
    "\n",
    "        pontosImagens.append(linha)\n",
    "        \n",
    "    pontos = []\n",
    "\n",
    "    for i in range(len(pontosImagens)):\n",
    "\n",
    "        txt = pontosImagens[i].split(\",\")\n",
    "\n",
    "        for j in range(len(txt)):\n",
    "\n",
    "            if(j == len(txt) - 1):\n",
    "\n",
    "                txt[j] = txt[j][:-2]\n",
    "\n",
    "        pontos.append(txt) \n",
    "        \n",
    "    return pontos\n",
    "    "
   ]
  },
  {
   "cell_type": "code",
   "execution_count": 182,
   "id": "8e50b604",
   "metadata": {},
   "outputs": [],
   "source": [
    "#Função para calibrar o ângulo\n",
    "\n",
    "def encontraAngulo(lado1, lado2, distanciaConhecida):\n",
    "    \n",
    "    angulo = (lado1 ** 2 + lado2 ** 2 - distanciaConhecida ** 2) / (2 * lado1 * lado2)\n",
    "       \n",
    "    arcCos = np.arccos(angulo)\n",
    "    \n",
    "    return arcCos"
   ]
  },
  {
   "cell_type": "code",
   "execution_count": 169,
   "id": "b6c19e8d",
   "metadata": {},
   "outputs": [],
   "source": [
    "def calculoDistancia(lado1, lado2, difPixel, angulo):\n",
    "    \n",
    "    angulo = angulo * difPixel\n",
    "    \n",
    "    distancia = (lado1 ** 2) + (lado2 ** 2) - 2 * lado1 * lado2 * np.cos(angulo)\n",
    "    \n",
    "    distancia = distancia ** 0.5\n",
    "    \n",
    "    return distancia\n",
    "    "
   ]
  },
  {
   "cell_type": "code",
   "execution_count": 183,
   "id": "79a148ba",
   "metadata": {},
   "outputs": [],
   "source": [
    "numImagem = 5\n",
    "\n",
    "arquivo = str(numImagem) + \"_depth.txt\"\n",
    "\n",
    "pontoOriginal1 = [990, 450]\n",
    "pontoOriginal2 = [990, 563]\n",
    "\n",
    "#pontoOriginal1 = [990, 257]\n",
    "#pontoOriginal2 = [990, 763]\n",
    "\n",
    "ponto1 = [round(pontoOriginal1[0] / 7.5), round(pontoOriginal1[1] / 7.5)]\n",
    "ponto2 = [round(pontoOriginal2[0] / 7.5), round(pontoOriginal2[1] / 7.5)]\n",
    "\n",
    "imagemOriginal = cv.imread(str(numImagem) + \".jpg\")\n",
    "\n",
    "imagemReduzida = cv.imread(str(numImagem) + \"_reduzido.jpg\")\n",
    "\n",
    "cv.circle(imagemOriginal, (pontoOriginal1[0],pontoOriginal1[1]), 5, (0,0,255), -1)\n",
    "cv.circle(imagemOriginal, (pontoOriginal2[0],pontoOriginal2[1]), 5, (255,0,0), -1)\n",
    "\n",
    "cv.circle(imagemReduzida, (ponto1[0],ponto1[1]), 1, (0,0,255), -1)\n",
    "cv.circle(imagemReduzida, (ponto2[0],ponto2[1]), 1, (255,0,0), -1)\n",
    "\n",
    "\n",
    "\n",
    "mostra(\"Imagem Original\", imagemOriginal)\n",
    "#mostra(\"Imagem Reduzida\", imagemReduzida)"
   ]
  },
  {
   "cell_type": "code",
   "execution_count": 189,
   "id": "36fc60e2",
   "metadata": {},
   "outputs": [
    {
     "name": "stdout",
     "output_type": "stream",
     "text": [
      "0.004078144835723353\n"
     ]
    }
   ],
   "source": [
    "distanciaPixelConhecida = 15\n",
    "\n",
    "anguloRa =  encontraAngulo(lado1, lado2, 3)\n",
    "\n",
    "anguloRa = anguloRa / distanciaPixelConhecida\n",
    "\n",
    "print(anguloRa)"
   ]
  },
  {
   "cell_type": "code",
   "execution_count": 191,
   "id": "284d18cc",
   "metadata": {},
   "outputs": [],
   "source": [
    "lado1 = organizaTXT(arquivo)[ponto1[0]][ponto1[1]]\n",
    "lado2 = organizaTXT(arquivo)[ponto2[0]][ponto2[1]]\n",
    "\n",
    "lado1 = float(lado1)\n",
    "lado2 = float(lado2)\n",
    "\n",
    "lado1 = lado1 * 100\n",
    "lado2 = lado2 * 100\n",
    "\n",
    "distanciaPixel = ponto2[1] - ponto1[1]"
   ]
  },
  {
   "cell_type": "code",
   "execution_count": 192,
   "id": "03f41463",
   "metadata": {},
   "outputs": [
    {
     "name": "stdout",
     "output_type": "stream",
     "text": [
      "3.0\n"
     ]
    }
   ],
   "source": [
    "print(calculoDistancia(lado1, lado2, distanciaPixel, anguloRa))"
   ]
  },
  {
   "cell_type": "code",
   "execution_count": null,
   "id": "52232282",
   "metadata": {},
   "outputs": [],
   "source": []
  }
 ],
 "metadata": {
  "kernelspec": {
   "display_name": "Python 3 (ipykernel)",
   "language": "python",
   "name": "python3"
  },
  "language_info": {
   "codemirror_mode": {
    "name": "ipython",
    "version": 3
   },
   "file_extension": ".py",
   "mimetype": "text/x-python",
   "name": "python",
   "nbconvert_exporter": "python",
   "pygments_lexer": "ipython3",
   "version": "3.9.7"
  }
 },
 "nbformat": 4,
 "nbformat_minor": 5
}
