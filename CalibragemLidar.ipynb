{
 "cells": [
  {
   "cell_type": "code",
   "execution_count": null,
   "id": "a92dfd58",
   "metadata": {},
   "outputs": [],
   "source": [
    "import cv2 as cv\n",
    "import numpy as np"
   ]
  },
  {
   "cell_type": "code",
   "execution_count": 67,
   "id": "2096cb1b",
   "metadata": {},
   "outputs": [],
   "source": [
    "def mostra(legenda, imagem):\n",
    "    \n",
    "    res = cv.resize(imagem, dsize=(512, 384), interpolation= cv.INTER_LINEAR)\n",
    "    \n",
    "    cv.imshow(legenda, res)\n",
    "    \n",
    "    cv.waitKey(0)"
   ]
  },
  {
   "cell_type": "code",
   "execution_count": 68,
   "id": "6a670674",
   "metadata": {},
   "outputs": [],
   "source": [
    "def organizaTXT(arquivo):\n",
    "    \n",
    "    arq = open(arquivo)\n",
    "\n",
    "    linhas = arq.readlines()\n",
    "\n",
    "    pontosImagens = [ ]\n",
    "\n",
    "    for linha in linhas:\n",
    "\n",
    "        pontosImagens.append(linha)\n",
    "        \n",
    "    pontos = []\n",
    "\n",
    "    for i in range(len(pontosImagens)):\n",
    "\n",
    "        txt = pontosImagens[i].split(\",\")\n",
    "\n",
    "        for j in range(len(txt)):\n",
    "\n",
    "            if(j == len(txt) - 1):\n",
    "\n",
    "                txt[j] = txt[j][:-2]\n",
    "\n",
    "        pontos.append(txt) \n",
    "        \n",
    "    return pontos\n",
    "    "
   ]
  },
  {
   "cell_type": "code",
   "execution_count": 157,
   "id": "79a148ba",
   "metadata": {},
   "outputs": [],
   "source": [
    "numImagem = 5\n",
    "\n",
    "arquivo = str(numImagem) + \"_depth.txt\"\n",
    "\n",
    "pontoOriginal1 = [990, 260]\n",
    "pontoOriginal2 = [990, 766]\n",
    "\n",
    "ponto1 = [round(pontoOriginal1[0] / 7.5), round(pontoOriginal1[1] / 7.5)]\n",
    "ponto2 = [round(pontoOriginal2[0] / 7.5), round(pontoOriginal2[1] / 7.5)]\n",
    "\n",
    "imagemOriginal = cv.imread(str(numImagem) + \".jpg\")\n",
    "\n",
    "imagemReduzida = cv.imread(str(numImagem) + \"_reduzido.jpg\")\n",
    "\n",
    "cv.circle(imagemOriginal, (pontoOriginal1[0],pontoOriginal1[1]), 5, (0,0,255), -1)\n",
    "cv.circle(imagemOriginal, (pontoOriginal2[0],pontoOriginal2[1]), 5, (255,0,0), -1)\n",
    "\n",
    "cv.circle(imagemReduzida, (ponto1[0],ponto1[1]), 1, (0,0,255), -1)\n",
    "cv.circle(imagemReduzida, (ponto2[0],ponto2[1]), 1, (255,0,0), -1)\n",
    "\n",
    "\n",
    "\n",
    "mostra(\"Imagem Original\", imagemOriginal)\n",
    "mostra(\"Imagem Reduzida\", imagemReduzida)"
   ]
  },
  {
   "cell_type": "code",
   "execution_count": 158,
   "id": "284d18cc",
   "metadata": {},
   "outputs": [
    {
     "name": "stdout",
     "output_type": "stream",
     "text": [
      "0.48168945\n",
      "0.48632812\n",
      "13.074284510193001\n"
     ]
    }
   ],
   "source": [
    "print(organizaTXT(arquivo)[ponto1[0]][ponto1[1]])\n",
    "print(organizaTXT(arquivo)[ponto2[0]][ponto2[1]])\n",
    "\n",
    "angulo = 0.195138574779\n",
    "\n",
    "distanciaPixel = ponto2[1] - ponto1[1]\n",
    "\n",
    "anguloFinal = distanciaPixel * angulo\n",
    "\n",
    "print(anguloFinal)"
   ]
  },
  {
   "cell_type": "code",
   "execution_count": 132,
   "id": "03f41463",
   "metadata": {},
   "outputs": [
    {
     "name": "stdout",
     "output_type": "stream",
     "text": [
      "0.5786133\n"
     ]
    }
   ],
   "source": [
    "print(organizaTXT(arquivo)[0][0])"
   ]
  },
  {
   "cell_type": "code",
   "execution_count": null,
   "id": "36fc60e2",
   "metadata": {},
   "outputs": [],
   "source": []
  }
 ],
 "metadata": {
  "kernelspec": {
   "display_name": "Python 3 (ipykernel)",
   "language": "python",
   "name": "python3"
  },
  "language_info": {
   "codemirror_mode": {
    "name": "ipython",
    "version": 3
   },
   "file_extension": ".py",
   "mimetype": "text/x-python",
   "name": "python",
   "nbconvert_exporter": "python",
   "pygments_lexer": "ipython3",
   "version": "3.9.7"
  }
 },
 "nbformat": 4,
 "nbformat_minor": 5
}
